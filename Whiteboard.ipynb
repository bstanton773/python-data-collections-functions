{
 "cells": [
  {
   "cell_type": "markdown",
   "metadata": {},
   "source": [
    "<p>It's the academic year's end, fateful moment of your school report. The averages must be calculated. All the students come to you and entreat you to calculate their average for them. Easy ! You just need to write a script.\n",
    "Return the average of the given list rounded down to its nearest integer.\n",
    "The list will never be empty.</p> <br>\n",
    "shohaGrades = [8,5,6,7,7,7,9,8] <br>\n",
    "brianGrades = [10,10,10,9,10,10,10,9] <br>\n",
    "nicoleGrades = [9,8,9,8,8,9,7,9,8] <br>\n",
    "findAvg(shohaGrades) # should return 7 <br>\n",
    "findAvg(brianGrades) # should return 9 <br>\n",
    "findAvg(nicoleGrades) # should return 8"
   ]
  },
  {
   "cell_type": "code",
   "execution_count": 5,
   "metadata": {},
   "outputs": [
    {
     "name": "stdout",
     "output_type": "stream",
     "text": [
      "7\n",
      "9\n",
      "8\n"
     ]
    }
   ],
   "source": [
    "def find_average(grades):\n",
    "    return sum(grades) // len(grades)\n",
    "\n",
    "print(find_average([8,5,6,7,7,7,9,8]))\n",
    "print(find_average([10,10,10,9,10,10,10,9]))\n",
    "print(find_average([9,8,9,8,8,9,7,9,8]))"
   ]
  },
  {
   "cell_type": "code",
   "execution_count": null,
   "metadata": {},
   "outputs": [],
   "source": []
  }
 ],
 "metadata": {
  "kernelspec": {
   "display_name": "Python 3",
   "language": "python",
   "name": "python3"
  },
  "language_info": {
   "codemirror_mode": {
    "name": "ipython",
    "version": 3
   },
   "file_extension": ".py",
   "mimetype": "text/x-python",
   "name": "python",
   "nbconvert_exporter": "python",
   "pygments_lexer": "ipython3",
   "version": "3.8.5"
  }
 },
 "nbformat": 4,
 "nbformat_minor": 4
}
